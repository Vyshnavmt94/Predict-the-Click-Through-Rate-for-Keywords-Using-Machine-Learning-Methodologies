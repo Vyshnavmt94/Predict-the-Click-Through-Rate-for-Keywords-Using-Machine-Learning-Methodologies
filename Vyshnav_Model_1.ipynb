{
 "cells": [
  {
   "cell_type": "code",
   "execution_count": 1,
   "metadata": {},
   "outputs": [
    {
     "name": "stderr",
     "output_type": "stream",
     "text": [
      "[nltk_data] Downloading package stopwords to\n",
      "[nltk_data]     C:\\Users\\user\\AppData\\Roaming\\nltk_data...\n",
      "[nltk_data]   Package stopwords is already up-to-date!\n"
     ]
    }
   ],
   "source": [
    "import numpy as np\n",
    "import pandas as pd\n",
    "import matplotlib.pyplot as plt\n",
    "import seaborn as sns\n",
    "%matplotlib inline\n",
    "\n",
    "from sklearn.model_selection import train_test_split\n",
    "from nltk.tokenize import word_tokenize\n",
    "from nltk.corpus import stopwords\n",
    "import re\n",
    "import nltk\n",
    "nltk.download('stopwords')\n",
    "# from pandas.tseries.holiday import \n",
    "import holidays"
   ]
  },
  {
   "cell_type": "code",
   "execution_count": 2,
   "metadata": {},
   "outputs": [],
   "source": [
    "pd.set_option('display.max_columns', None)"
   ]
  },
  {
   "cell_type": "code",
   "execution_count": 3,
   "metadata": {},
   "outputs": [],
   "source": [
    "from gensim.models.wrappers import FastText\n",
    "fmodel = FastText.load_fasttext_format('wiki.en/wiki.en.bin')"
   ]
  },
  {
   "cell_type": "code",
   "execution_count": 243,
   "metadata": {},
   "outputs": [
    {
     "data": {
      "text/html": [
       "<div>\n",
       "<style scoped>\n",
       "    .dataframe tbody tr th:only-of-type {\n",
       "        vertical-align: middle;\n",
       "    }\n",
       "\n",
       "    .dataframe tbody tr th {\n",
       "        vertical-align: top;\n",
       "    }\n",
       "\n",
       "    .dataframe thead th {\n",
       "        text-align: right;\n",
       "    }\n",
       "</style>\n",
       "<table border=\"1\" class=\"dataframe\">\n",
       "  <thead>\n",
       "    <tr style=\"text-align: right;\">\n",
       "      <th></th>\n",
       "      <th>Date</th>\n",
       "      <th>Market</th>\n",
       "      <th>Keyword</th>\n",
       "      <th>Average.Position</th>\n",
       "      <th>CPC</th>\n",
       "      <th>Clicks</th>\n",
       "      <th>CTR</th>\n",
       "      <th>Impressions</th>\n",
       "      <th>Cost</th>\n",
       "    </tr>\n",
       "  </thead>\n",
       "  <tbody>\n",
       "    <tr>\n",
       "      <th>0</th>\n",
       "      <td>20120524</td>\n",
       "      <td>US-Market</td>\n",
       "      <td>secure online back up</td>\n",
       "      <td>0.0</td>\n",
       "      <td>0.0</td>\n",
       "      <td>0.0</td>\n",
       "      <td>0.00%</td>\n",
       "      <td>0.0</td>\n",
       "      <td>0.0</td>\n",
       "    </tr>\n",
       "    <tr>\n",
       "      <th>305</th>\n",
       "      <td>20120524</td>\n",
       "      <td>US-Market</td>\n",
       "      <td>donate to haiti</td>\n",
       "      <td>0.0</td>\n",
       "      <td>0.0</td>\n",
       "      <td>0.0</td>\n",
       "      <td>0.00%</td>\n",
       "      <td>0.0</td>\n",
       "      <td>0.0</td>\n",
       "    </tr>\n",
       "  </tbody>\n",
       "</table>\n",
       "</div>"
      ],
      "text/plain": [
       "         Date     Market                Keyword  Average.Position  CPC  \\\n",
       "0    20120524  US-Market  secure online back up               0.0  0.0   \n",
       "305  20120524  US-Market        donate to haiti               0.0  0.0   \n",
       "\n",
       "     Clicks    CTR  Impressions  Cost  \n",
       "0       0.0  0.00%          0.0   0.0  \n",
       "305     0.0  0.00%          0.0   0.0  "
      ]
     },
     "execution_count": 243,
     "metadata": {},
     "output_type": "execute_result"
    }
   ],
   "source": [
    "df_train = pd.read_csv('Dataset.csv')\n",
    "df_train.sort_values(by='Date',inplace=True)\n",
    "df_train.head(2)"
   ]
  },
  {
   "cell_type": "code",
   "execution_count": 244,
   "metadata": {},
   "outputs": [
    {
     "data": {
      "text/html": [
       "<div>\n",
       "<style scoped>\n",
       "    .dataframe tbody tr th:only-of-type {\n",
       "        vertical-align: middle;\n",
       "    }\n",
       "\n",
       "    .dataframe tbody tr th {\n",
       "        vertical-align: top;\n",
       "    }\n",
       "\n",
       "    .dataframe thead th {\n",
       "        text-align: right;\n",
       "    }\n",
       "</style>\n",
       "<table border=\"1\" class=\"dataframe\">\n",
       "  <thead>\n",
       "    <tr style=\"text-align: right;\">\n",
       "      <th></th>\n",
       "      <th>Date</th>\n",
       "      <th>Market</th>\n",
       "      <th>Keyword</th>\n",
       "      <th>Average.Position</th>\n",
       "      <th>CPC</th>\n",
       "      <th>CTR</th>\n",
       "      <th>Impressions</th>\n",
       "      <th>Cost</th>\n",
       "    </tr>\n",
       "  </thead>\n",
       "  <tbody>\n",
       "    <tr>\n",
       "      <th>0</th>\n",
       "      <td>20130214</td>\n",
       "      <td>US-Market</td>\n",
       "      <td>cheap insurance life term</td>\n",
       "      <td>0.0</td>\n",
       "      <td>0.00</td>\n",
       "      <td>0.00%</td>\n",
       "      <td>0</td>\n",
       "      <td>0.00</td>\n",
       "    </tr>\n",
       "    <tr>\n",
       "      <th>1</th>\n",
       "      <td>20130214</td>\n",
       "      <td>US-Market</td>\n",
       "      <td>home loans refinancing</td>\n",
       "      <td>1.0</td>\n",
       "      <td>7.63</td>\n",
       "      <td>3.80%</td>\n",
       "      <td>445</td>\n",
       "      <td>130.41</td>\n",
       "    </tr>\n",
       "  </tbody>\n",
       "</table>\n",
       "</div>"
      ],
      "text/plain": [
       "       Date     Market                    Keyword  Average.Position   CPC  \\\n",
       "0  20130214  US-Market  cheap insurance life term               0.0  0.00   \n",
       "1  20130214  US-Market     home loans refinancing               1.0  7.63   \n",
       "\n",
       "     CTR  Impressions    Cost  \n",
       "0  0.00%            0    0.00  \n",
       "1  3.80%          445  130.41  "
      ]
     },
     "execution_count": 244,
     "metadata": {},
     "output_type": "execute_result"
    }
   ],
   "source": [
    "df_test = pd.read_csv('Evaluate.csv')\n",
    "df_test.head(2)"
   ]
  },
  {
   "cell_type": "code",
   "execution_count": 245,
   "metadata": {},
   "outputs": [],
   "source": [
    "def get_model2(data,data_test):\n",
    "    data['Date'] = data['Date'].apply(lambda x: pd.to_datetime(str(x), format='%Y%m%d', errors='ignore'))\n",
    "    data_test['Date'] = data_test['Date'].apply(lambda x: pd.to_datetime(str(x), format='%Y%m%d', errors='ignore'))\n",
    "    \n",
    "    date_data = data['Date']\n",
    "\n",
    "    date = pd.DataFrame({'year':date_data.dt.year,\n",
    "                         'month':date_data.dt.month,\n",
    "                        'week':date_data.dt.week,\n",
    "                        'dayofweek':date_data.dt.dayofweek, #date_data.dt.weekday\n",
    "                        'dayofyear':date_data.dt.dayofyear})\n",
    "\n",
    "    date_data_test = data_test['Date']\n",
    "\n",
    "    date_test = pd.DataFrame({'year':date_data_test.dt.year,\n",
    "                         'month':date_data_test.dt.month,\n",
    "                        'week':date_data_test.dt.week,\n",
    "                        'dayofweek':date_data_test.dt.dayofweek, #date_data.dt.weekday\n",
    "                        'dayofyear':date_data_test.dt.dayofyear})\n",
    "    \n",
    "    train_data = pd.concat([data,date],axis=1)\n",
    "    test_data = pd.concat([data_test,date_test],axis=1)\n",
    "    train_data.dropna(inplace=True)\n",
    "    \n",
    "    train_data['Market'] = train_data['Market'].astype(\"category\")\n",
    "    train_data['Market'] = train_data['Market'].cat.codes\n",
    "    test_data['Market'] = test_data['Market'].astype(\"category\")\n",
    "    test_data['Market'] = test_data['Market'].cat.codes\n",
    "    \n",
    "    train_data['CTR']=train_data['CTR'].str.rstrip('%').astype('float')\n",
    "    test_data['CTR']=test_data['CTR'].str.rstrip('%').astype('float')\n",
    "    \n",
    "    train = train_data[train_data['year']!=2013]\n",
    "    val = train_data[train_data['year']==2013]\n",
    "    \n",
    "    train.drop(['Date','year'],axis=1,inplace=True)\n",
    "    val.drop(['Date','year'],axis=1,inplace=True)\n",
    "    test_data.drop(['Date','year'],axis=1,inplace=True)\n",
    "    \n",
    "    X_train = train.drop('Clicks',axis=1)\n",
    "    Y_train = train['Clicks']\n",
    "    X_valid = val.drop('Clicks',axis=1)\n",
    "    Y_valid = val['Clicks']\n",
    "    return X_train,Y_train,X_valid,Y_valid,test_data\n",
    "    "
   ]
  },
  {
   "cell_type": "code",
   "execution_count": null,
   "metadata": {},
   "outputs": [],
   "source": [
    "def get_model1(data,data_test):\n",
    "    data['Date'] = data['Date'].apply(lambda x: pd.to_datetime(str(x), format='%Y%m%d', errors='ignore'))\n",
    "    data_test['Date'] = data_test['Date'].apply(lambda x: pd.to_datetime(str(x), format='%Y%m%d', errors='ignore'))\n",
    "    \n",
    "    date_data = data['Date']\n",
    "    date = pd.DataFrame({'year':date_data.dt.year})\n",
    "\n",
    "    date_data_test = data_test['Date']\n",
    "    date_test = pd.DataFrame({'year':date_data_test.dt.year})\n",
    "    \n",
    "    train_data = pd.concat([data,date],axis=1)\n",
    "    test_data = pd.concat([data_test,date_test],axis=1)\n",
    "    train_data.dropna(inplace=True)\n",
    "    \n",
    "    train_data['Market'] = train_data['Market'].astype(\"category\")\n",
    "    train_data['Market'] = train_data['Market'].cat.codes\n",
    "    test_data['Market'] = test_data['Market'].astype(\"category\")\n",
    "    test_data['Market'] = test_data['Market'].cat.codes\n",
    "    \n",
    "    train_data['CTR']=train_data['CTR'].str.rstrip('%').astype('float')\n",
    "    test_data['CTR']=test_data['CTR'].str.rstrip('%').astype('float')\n",
    "    \n",
    "    train = train_data[train_data['year']!=2013]\n",
    "    val = train_data[train_data['year']==2013]\n",
    "    \n",
    "    train.drop(['Date','year'],axis=1,inplace=True)\n",
    "    val.drop(['Date','year'],axis=1,inplace=True)\n",
    "    test_data.drop(['Date','year'],axis=1,inplace=True)\n",
    "    \n",
    "    X_train = train.drop('Clicks',axis=1)\n",
    "    Y_train = train['Clicks']\n",
    "    X_valid = val.drop('Clicks',axis=1)\n",
    "    Y_valid = val['Clicks']\n",
    "    \n",
    "    return X_train,Y_train,X_valid,Y_valid,test_data\n"
   ]
  },
  {
   "cell_type": "code",
   "execution_count": 246,
   "metadata": {},
   "outputs": [],
   "source": [
    "def get_model3(data,data_test):\n",
    "    data['Date'] = data['Date'].apply(lambda x: pd.to_datetime(str(x), format='%Y%m%d', errors='ignore'))\n",
    "    data_test['Date'] = data_test['Date'].apply(lambda x: pd.to_datetime(str(x), format='%Y%m%d', errors='ignore'))\n",
    "    \n",
    "    date_data = data['Date']\n",
    "    date = pd.DataFrame({'year':date_data.dt.year})\n",
    "\n",
    "    date_data_test = data_test['Date']\n",
    "    date_test = pd.DataFrame({'year':date_data_test.dt.year})\n",
    "    \n",
    "    train_data = pd.concat([data,date],axis=1)\n",
    "    test_data = pd.concat([data_test,date_test],axis=1)\n",
    "    train_data.dropna(inplace=True)\n",
    "    \n",
    "    train_data['CTR']=train_data['CTR'].str.rstrip('%').astype('float')\n",
    "    test_data['CTR']=test_data['CTR'].str.rstrip('%').astype('float')\n",
    "    train_data['Market'] = train_data['Market'].astype(\"category\")\n",
    "    train_data['Market'] = train_data['Market'].cat.codes\n",
    "    test_data['Market'] = test_data['Market'].astype(\"category\")\n",
    "    test_data['Market'] = test_data['Market'].cat.codes\n",
    "    \n",
    "    train = train_data[train_data['year']!=2013]\n",
    "    val = train_data[train_data['year']==2013]\n",
    "    \n",
    "    train.drop(['Date','year','Average.Position','CTR'],axis=1,inplace=True)\n",
    "    val.drop(['Date','year','Average.Position','CTR'],axis=1,inplace=True)\n",
    "    test_data.drop(['Date','year','Average.Position','CTR'],axis=1,inplace=True)\n",
    "    \n",
    "    X_train = train.drop('Clicks',axis=1)\n",
    "    Y_train = train['Clicks']\n",
    "    X_valid = val.drop('Clicks',axis=1)\n",
    "    Y_valid = val['Clicks']\n",
    "    \n",
    "    return X_train,Y_train,X_valid,Y_valid,test_data"
   ]
  },
  {
   "cell_type": "code",
   "execution_count": 247,
   "metadata": {},
   "outputs": [],
   "source": [
    "def get_model4(data,data_test):\n",
    "    data['Date'] = data['Date'].apply(lambda x: pd.to_datetime(str(x), format='%Y%m%d', errors='ignore'))\n",
    "    data_test['Date'] = data_test['Date'].apply(lambda x: pd.to_datetime(str(x), format='%Y%m%d', errors='ignore'))\n",
    "    \n",
    "    date_data = data['Date']\n",
    "    date = pd.DataFrame({'year':date_data.dt.year})\n",
    "\n",
    "    date_data_test = data_test['Date']\n",
    "    date_test = pd.DataFrame({'year':date_data_test.dt.year})\n",
    "    \n",
    "    train_data = pd.concat([data,date],axis=1)\n",
    "    test_data = pd.concat([data_test,date_test],axis=1)\n",
    "    train_data.dropna(inplace=True)\n",
    "    \n",
    "    train_data['CTR']=train_data['CTR'].str.rstrip('%').astype('float')\n",
    "    test_data['CTR']=test_data['CTR'].str.rstrip('%').astype('float')\n",
    "    \n",
    "    train_2012 = train_data[train_data['year']!=2013]\n",
    "    train_2013 = train_data[train_data['year']==2013]\n",
    "    uk_2012 = train_2012[train_2012['Market']=='UK-Market']\n",
    "    us_2012 = train_2012[train_2012['Market']=='US-Market']\n",
    "    uk_2013 = train_2013[train_2013['Market']=='UK-Market']\n",
    "    us_2013 = train_2013[train_2013['Market']=='US-Market']\n",
    "    uk_2012['holidays']=uk_2012['Date'].isin(holidays.UnitedKingdom(years = 2012))\n",
    "    uk_2013['holidays']=uk_2013['Date'].isin(holidays.UnitedKingdom(years = 2013))\n",
    "    us_2012['holidays']=us_2012['Date'].isin(holidays.UnitedStates(years = 2012))\n",
    "    us_2013['holidays']=us_2013['Date'].isin(holidays.UnitedStates(years = 2013))\n",
    "\n",
    "    uk = test_data[test_data['Market']=='UK-Market']\n",
    "    us = test_data[test_data['Market']=='US-Market']\n",
    "    uk['holidays']=uk['Date'].isin(holidays.UnitedKingdom(years = 2013))\n",
    "    us['holidays']=us['Date'].isin(holidays.UnitedStates(years = 2013))\n",
    "    \n",
    "    train_data = pd.concat([uk_2012,us_2012,uk_2013,us_2013],axis=0)\n",
    "    test_data = pd.concat([uk,us],axis=0)\n",
    "    \n",
    "    train_data['Market'] = train_data['Market'].astype(\"category\")\n",
    "    train_data['Market'] = train_data['Market'].cat.codes\n",
    "    train_data['holidays'] = train_data['holidays'].astype(\"category\")\n",
    "    train_data['holidays'] = train_data['holidays'].cat.codes\n",
    "    test_data['Market'] = test_data['Market'].astype(\"category\")\n",
    "    test_data['Market'] = test_data['Market'].cat.codes\n",
    "    test_data['holidays'] = test_data['holidays'].astype(\"category\")\n",
    "    test_data['holidays'] = test_data['holidays'].cat.codes\n",
    "    \n",
    "    train = train_data[train_data['year']!=2013]\n",
    "    val = train_data[train_data['year']==2013]\n",
    "    \n",
    "    train.drop(['Date','year','Average.Position','CTR'],axis=1,inplace=True)\n",
    "    val.drop(['Date','year','Average.Position','CTR'],axis=1,inplace=True)\n",
    "    test_data.drop(['Date','year','Average.Position','CTR'],axis=1,inplace=True)\n",
    "    \n",
    "    X_train = train.drop('Clicks',axis=1)\n",
    "    Y_train = train['Clicks']\n",
    "    X_valid = val.drop('Clicks',axis=1)\n",
    "    Y_valid = val['Clicks']\n",
    "    \n",
    "    return X_train,Y_train,X_valid,Y_valid,test_data"
   ]
  },
  {
   "cell_type": "code",
   "execution_count": 216,
   "metadata": {},
   "outputs": [],
   "source": [
    "X_train,Y_train,X_valid,Y_valid,test = get_model2(df_train,df_test)"
   ]
  },
  {
   "cell_type": "code",
   "execution_count": 217,
   "metadata": {},
   "outputs": [],
   "source": [
    "X_train,Y_train,X_valid,Y_valid,test = get_model1(df_train,df_test)"
   ]
  },
  {
   "cell_type": "code",
   "execution_count": 249,
   "metadata": {},
   "outputs": [
    {
     "name": "stderr",
     "output_type": "stream",
     "text": [
      "C:\\ProgramData\\Anaconda3\\lib\\site-packages\\pandas\\core\\frame.py:3940: SettingWithCopyWarning: \n",
      "A value is trying to be set on a copy of a slice from a DataFrame\n",
      "\n",
      "See the caveats in the documentation: http://pandas.pydata.org/pandas-docs/stable/indexing.html#indexing-view-versus-copy\n",
      "  errors=errors)\n"
     ]
    }
   ],
   "source": [
    "X_train,Y_train,X_valid,Y_valid,test = get_model3(df_train,df_test)"
   ]
  },
  {
   "cell_type": "code",
   "execution_count": 218,
   "metadata": {},
   "outputs": [],
   "source": [
    "X_train,Y_train,X_valid,Y_valid,test = get_model4(df_train,df_test)"
   ]
  },
  {
   "cell_type": "code",
   "execution_count": 250,
   "metadata": {},
   "outputs": [
    {
     "name": "stdout",
     "output_type": "stream",
     "text": [
      "(285935, 5)\n",
      "(285935,)\n",
      "(66605, 5)\n",
      "(66605,)\n",
      "(400, 5)\n"
     ]
    }
   ],
   "source": [
    "print(X_train.shape)\n",
    "print(Y_train.shape)\n",
    "print(X_valid.shape)\n",
    "print(Y_valid.shape)\n",
    "print(test.shape)"
   ]
  },
  {
   "cell_type": "code",
   "execution_count": 251,
   "metadata": {},
   "outputs": [
    {
     "data": {
      "text/html": [
       "<div>\n",
       "<style scoped>\n",
       "    .dataframe tbody tr th:only-of-type {\n",
       "        vertical-align: middle;\n",
       "    }\n",
       "\n",
       "    .dataframe tbody tr th {\n",
       "        vertical-align: top;\n",
       "    }\n",
       "\n",
       "    .dataframe thead th {\n",
       "        text-align: right;\n",
       "    }\n",
       "</style>\n",
       "<table border=\"1\" class=\"dataframe\">\n",
       "  <thead>\n",
       "    <tr style=\"text-align: right;\">\n",
       "      <th></th>\n",
       "      <th>Market</th>\n",
       "      <th>Keyword</th>\n",
       "      <th>CPC</th>\n",
       "      <th>Impressions</th>\n",
       "      <th>Cost</th>\n",
       "    </tr>\n",
       "  </thead>\n",
       "  <tbody>\n",
       "    <tr>\n",
       "      <th>0</th>\n",
       "      <td>1</td>\n",
       "      <td>secure online back up</td>\n",
       "      <td>0.0</td>\n",
       "      <td>0.0</td>\n",
       "      <td>0.0</td>\n",
       "    </tr>\n",
       "    <tr>\n",
       "      <th>305</th>\n",
       "      <td>1</td>\n",
       "      <td>donate to haiti</td>\n",
       "      <td>0.0</td>\n",
       "      <td>0.0</td>\n",
       "      <td>0.0</td>\n",
       "    </tr>\n",
       "  </tbody>\n",
       "</table>\n",
       "</div>"
      ],
      "text/plain": [
       "     Market                Keyword  CPC  Impressions  Cost\n",
       "0         1  secure online back up  0.0          0.0   0.0\n",
       "305       1        donate to haiti  0.0          0.0   0.0"
      ]
     },
     "execution_count": 251,
     "metadata": {},
     "output_type": "execute_result"
    }
   ],
   "source": [
    "X_train.head(2)"
   ]
  },
  {
   "cell_type": "code",
   "execution_count": 252,
   "metadata": {},
   "outputs": [],
   "source": [
    "#Preprocessing - removing unwanted characters, tokenization, stop-word removal\n",
    "def clean_data(txts):\n",
    "    x = re.sub(\"[^a-zA-Z]\", \" \",txts) \n",
    "    x = x.lower().split()                             \n",
    "    stops = set(stopwords.words(\"english\"))                  \n",
    "    words = [w for w in x if not w in stops] \n",
    "    \n",
    "    return( \" \".join(words))"
   ]
  },
  {
   "cell_type": "code",
   "execution_count": 253,
   "metadata": {},
   "outputs": [],
   "source": [
    "X_train['Keyword'] = X_train['Keyword'].apply(lambda x: clean_data(x))\n",
    "X_valid['Keyword']= X_valid['Keyword'].apply(lambda x: clean_data(x))\n",
    "test['Keyword']= test['Keyword'].apply(lambda x: clean_data(x))"
   ]
  },
  {
   "cell_type": "code",
   "execution_count": 254,
   "metadata": {},
   "outputs": [
    {
     "name": "stderr",
     "output_type": "stream",
     "text": [
      "C:\\ProgramData\\Anaconda3\\lib\\site-packages\\numpy\\core\\fromnumeric.py:3118: RuntimeWarning: Mean of empty slice.\n",
      "  out=out, **kwargs)\n",
      "C:\\ProgramData\\Anaconda3\\lib\\site-packages\\numpy\\core\\_methods.py:85: RuntimeWarning: invalid value encountered in double_scalars\n",
      "  ret = ret.dtype.type(ret / rcount)\n"
     ]
    },
    {
     "name": "stdout",
     "output_type": "stream",
     "text": [
      "(285935, 300)\n",
      "(66605, 300)\n",
      "(400, 300)\n"
     ]
    }
   ],
   "source": [
    "train_words = X_train['Keyword'].tolist()\n",
    "val_words = X_valid['Keyword'].tolist()\n",
    "test_words = test['Keyword'].tolist()\n",
    "\n",
    "#======================================================================\n",
    "X_train_words= np.zeros((len(train_words),300)) \n",
    "\n",
    "for i in range(len(train_words)):\n",
    "    words = word_tokenize(train_words[i])\n",
    "    emb = [fmodel.wv[w] for w in words] \n",
    "    X_train_words[i] = np.mean(emb, axis=0)\n",
    "    \n",
    "df_train_1= pd.DataFrame(X_train_words)\n",
    "df_train_1.fillna(value=0,inplace=True)\n",
    "\n",
    "X_train_words = np.array(df_train_1)\n",
    "print(X_train_words.shape)\n",
    "\n",
    "#======================================================================\n",
    "\n",
    "X_val_words = np.zeros((len(val_words),300))\n",
    "\n",
    "for i in range(len(val_words)):\n",
    "    words = word_tokenize(val_words[i])\n",
    "    emb = [fmodel.wv[w] for w in words]\n",
    "    X_val_words[i] = np.mean(emb, axis=0)\n",
    "    \n",
    "df_test_1 = pd.DataFrame(X_val_words)\n",
    "df_test_1.fillna(value=0,inplace=True)\n",
    "\n",
    "X_val_words = np.array(df_test_1)\n",
    "print(X_val_words.shape)\n",
    "\n",
    "#======================================================================\n",
    "\n",
    "X_test_words = np.zeros((len(test_words),300))\n",
    "\n",
    "for i in range(len(test_words)):\n",
    "    words = word_tokenize(test_words[i])\n",
    "    emb = [fmodel.wv[w] for w in words]\n",
    "    X_test_words[i] = np.mean(emb, axis=0)\n",
    "    \n",
    "df_test_2 = pd.DataFrame(X_test_words)\n",
    "df_test_2.fillna(value=0,inplace=True)\n",
    "\n",
    "X_test_words = np.array(df_test_2)\n",
    "print(X_test_words.shape)"
   ]
  },
  {
   "cell_type": "code",
   "execution_count": 255,
   "metadata": {},
   "outputs": [],
   "source": [
    "X_train.drop(['Keyword'],inplace=True,axis=1)\n",
    "X_valid.drop(['Keyword'],inplace=True,axis=1)\n",
    "test.drop(['Keyword'],inplace=True,axis=1)"
   ]
  },
  {
   "cell_type": "code",
   "execution_count": 256,
   "metadata": {},
   "outputs": [
    {
     "data": {
      "text/html": [
       "<div>\n",
       "<style scoped>\n",
       "    .dataframe tbody tr th:only-of-type {\n",
       "        vertical-align: middle;\n",
       "    }\n",
       "\n",
       "    .dataframe tbody tr th {\n",
       "        vertical-align: top;\n",
       "    }\n",
       "\n",
       "    .dataframe thead th {\n",
       "        text-align: right;\n",
       "    }\n",
       "</style>\n",
       "<table border=\"1\" class=\"dataframe\">\n",
       "  <thead>\n",
       "    <tr style=\"text-align: right;\">\n",
       "      <th></th>\n",
       "      <th>Market</th>\n",
       "      <th>CPC</th>\n",
       "      <th>Impressions</th>\n",
       "      <th>Cost</th>\n",
       "    </tr>\n",
       "  </thead>\n",
       "  <tbody>\n",
       "    <tr>\n",
       "      <th>0</th>\n",
       "      <td>1</td>\n",
       "      <td>0.0</td>\n",
       "      <td>0.0</td>\n",
       "      <td>0.0</td>\n",
       "    </tr>\n",
       "    <tr>\n",
       "      <th>305</th>\n",
       "      <td>1</td>\n",
       "      <td>0.0</td>\n",
       "      <td>0.0</td>\n",
       "      <td>0.0</td>\n",
       "    </tr>\n",
       "  </tbody>\n",
       "</table>\n",
       "</div>"
      ],
      "text/plain": [
       "     Market  CPC  Impressions  Cost\n",
       "0         1  0.0          0.0   0.0\n",
       "305       1  0.0          0.0   0.0"
      ]
     },
     "execution_count": 256,
     "metadata": {},
     "output_type": "execute_result"
    }
   ],
   "source": [
    "X_train.head(2)"
   ]
  },
  {
   "cell_type": "code",
   "execution_count": 257,
   "metadata": {},
   "outputs": [
    {
     "data": {
      "text/plain": [
       "(3666042.0, 0.0)"
      ]
     },
     "execution_count": 257,
     "metadata": {},
     "output_type": "execute_result"
    }
   ],
   "source": [
    "X_train.values.max(),X_train.values.min()"
   ]
  },
  {
   "cell_type": "code",
   "execution_count": 258,
   "metadata": {},
   "outputs": [
    {
     "data": {
      "text/html": [
       "<div>\n",
       "<style scoped>\n",
       "    .dataframe tbody tr th:only-of-type {\n",
       "        vertical-align: middle;\n",
       "    }\n",
       "\n",
       "    .dataframe tbody tr th {\n",
       "        vertical-align: top;\n",
       "    }\n",
       "\n",
       "    .dataframe thead th {\n",
       "        text-align: right;\n",
       "    }\n",
       "</style>\n",
       "<table border=\"1\" class=\"dataframe\">\n",
       "  <thead>\n",
       "    <tr style=\"text-align: right;\">\n",
       "      <th></th>\n",
       "      <th>Market</th>\n",
       "      <th>CPC</th>\n",
       "      <th>Impressions</th>\n",
       "      <th>Cost</th>\n",
       "    </tr>\n",
       "  </thead>\n",
       "  <tbody>\n",
       "    <tr>\n",
       "      <th>0</th>\n",
       "      <td>1</td>\n",
       "      <td>0.00</td>\n",
       "      <td>0</td>\n",
       "      <td>0.00</td>\n",
       "    </tr>\n",
       "    <tr>\n",
       "      <th>1</th>\n",
       "      <td>1</td>\n",
       "      <td>7.63</td>\n",
       "      <td>445</td>\n",
       "      <td>130.41</td>\n",
       "    </tr>\n",
       "  </tbody>\n",
       "</table>\n",
       "</div>"
      ],
      "text/plain": [
       "   Market   CPC  Impressions    Cost\n",
       "0       1  0.00            0    0.00\n",
       "1       1  7.63          445  130.41"
      ]
     },
     "execution_count": 258,
     "metadata": {},
     "output_type": "execute_result"
    }
   ],
   "source": [
    "test.head(2)"
   ]
  },
  {
   "cell_type": "code",
   "execution_count": 259,
   "metadata": {},
   "outputs": [],
   "source": [
    "X_train = (X_train.values - X_train.values.min())/(X_train.values.max()-X_train.values.min())\n",
    "X_valid = (X_valid.values - X_valid.values.min())/(X_valid.values.max()-X_valid.values.min())\n",
    "test = (test.values - test.values.min())/(test.values.max()-test.values.min())"
   ]
  },
  {
   "cell_type": "code",
   "execution_count": 260,
   "metadata": {},
   "outputs": [],
   "source": [
    "x_train = np.hstack((X_train_words,X_train))\n",
    "x_valid = np.hstack((X_val_words,X_valid))\n",
    "x_test = np.hstack((X_test_words,test))"
   ]
  },
  {
   "cell_type": "code",
   "execution_count": 261,
   "metadata": {},
   "outputs": [
    {
     "data": {
      "text/plain": [
       "((285935, 304), (66605, 304), (285935,), (66605,), (400, 304))"
      ]
     },
     "execution_count": 261,
     "metadata": {},
     "output_type": "execute_result"
    }
   ],
   "source": [
    "x_train.shape,x_valid.shape,Y_train.shape,Y_valid.shape,x_test.shape"
   ]
  },
  {
   "cell_type": "code",
   "execution_count": 262,
   "metadata": {},
   "outputs": [
    {
     "data": {
      "text/plain": [
       "(-1.3244595527648926, 1.2421350479125977)"
      ]
     },
     "execution_count": 262,
     "metadata": {},
     "output_type": "execute_result"
    }
   ],
   "source": [
    "x_train.min(),x_train.max()"
   ]
  },
  {
   "cell_type": "markdown",
   "metadata": {},
   "source": [
    "### Random Forest Model"
   ]
  },
  {
   "cell_type": "code",
   "execution_count": 263,
   "metadata": {},
   "outputs": [
    {
     "name": "stderr",
     "output_type": "stream",
     "text": [
      "C:\\ProgramData\\Anaconda3\\lib\\site-packages\\sklearn\\ensemble\\forest.py:245: FutureWarning: The default value of n_estimators will change from 10 in version 0.20 to 100 in 0.22.\n",
      "  \"10 in version 0.20 to 100 in 0.22.\", FutureWarning)\n"
     ]
    },
    {
     "data": {
      "text/plain": [
       "RandomForestRegressor(bootstrap=True, criterion='mse', max_depth=None,\n",
       "                      max_features='auto', max_leaf_nodes=None,\n",
       "                      min_impurity_decrease=0.0, min_impurity_split=None,\n",
       "                      min_samples_leaf=1, min_samples_split=2,\n",
       "                      min_weight_fraction_leaf=0.0, n_estimators=10,\n",
       "                      n_jobs=None, oob_score=False, random_state=None,\n",
       "                      verbose=0, warm_start=False)"
      ]
     },
     "execution_count": 263,
     "metadata": {},
     "output_type": "execute_result"
    }
   ],
   "source": [
    "from sklearn.ensemble import RandomForestRegressor\n",
    "classifier = RandomForestRegressor() \n",
    "classifier.fit(x_train,Y_train)"
   ]
  },
  {
   "cell_type": "code",
   "execution_count": 264,
   "metadata": {},
   "outputs": [
    {
     "name": "stdout",
     "output_type": "stream",
     "text": [
      "coefficient of determination R^2 of the prediction.:  0.9982325987642072\n",
      "Mean squared error: 121619.00\n",
      "Test Variance score: 0.92\n",
      "mean_absolute_error: 42.45\n"
     ]
    }
   ],
   "source": [
    "from sklearn.metrics import mean_squared_error, r2_score, mean_absolute_error\n",
    "model_score = classifier.score(x_train,Y_train)\n",
    "print('coefficient of determination R^2 of the prediction.: ',model_score)\n",
    "y_predicted = classifier.predict(x_valid)\n",
    "\n",
    "# The mean squared error\n",
    "print(\"Mean squared error: %.2f\"% mean_squared_error(Y_valid, y_predicted))\n",
    "# Explained variance score: 1 is perfect prediction\n",
    "print('Test Variance score: %.2f' % r2_score(Y_valid, y_predicted))\n",
    "print('mean_absolute_error: %.2f' % mean_absolute_error(Y_valid, y_predicted))"
   ]
  },
  {
   "cell_type": "code",
   "execution_count": 215,
   "metadata": {},
   "outputs": [
    {
     "data": {
      "text/html": [
       "<div>\n",
       "<style scoped>\n",
       "    .dataframe tbody tr th:only-of-type {\n",
       "        vertical-align: middle;\n",
       "    }\n",
       "\n",
       "    .dataframe tbody tr th {\n",
       "        vertical-align: top;\n",
       "    }\n",
       "\n",
       "    .dataframe thead th {\n",
       "        text-align: right;\n",
       "    }\n",
       "</style>\n",
       "<table border=\"1\" class=\"dataframe\">\n",
       "  <thead>\n",
       "    <tr style=\"text-align: right;\">\n",
       "      <th></th>\n",
       "      <th>Date</th>\n",
       "      <th>Market</th>\n",
       "      <th>Keyword</th>\n",
       "      <th>Average.Position</th>\n",
       "      <th>CPC</th>\n",
       "      <th>CTR</th>\n",
       "      <th>Impressions</th>\n",
       "      <th>Cost</th>\n",
       "      <th>clicks</th>\n",
       "    </tr>\n",
       "  </thead>\n",
       "  <tbody>\n",
       "    <tr>\n",
       "      <th>0</th>\n",
       "      <td>20130214</td>\n",
       "      <td>US-Market</td>\n",
       "      <td>cheap insurance life term</td>\n",
       "      <td>0.0</td>\n",
       "      <td>0.00</td>\n",
       "      <td>0.00%</td>\n",
       "      <td>0</td>\n",
       "      <td>0.00</td>\n",
       "      <td>4.834382e-08</td>\n",
       "    </tr>\n",
       "    <tr>\n",
       "      <th>1</th>\n",
       "      <td>20130214</td>\n",
       "      <td>US-Market</td>\n",
       "      <td>home loans refinancing</td>\n",
       "      <td>1.0</td>\n",
       "      <td>7.63</td>\n",
       "      <td>3.80%</td>\n",
       "      <td>445</td>\n",
       "      <td>130.41</td>\n",
       "      <td>4.834382e-08</td>\n",
       "    </tr>\n",
       "    <tr>\n",
       "      <th>2</th>\n",
       "      <td>20130214</td>\n",
       "      <td>US-Market</td>\n",
       "      <td>consolidate college loans</td>\n",
       "      <td>0.0</td>\n",
       "      <td>0.00</td>\n",
       "      <td>0.00%</td>\n",
       "      <td>0</td>\n",
       "      <td>0.00</td>\n",
       "      <td>4.834382e-08</td>\n",
       "    </tr>\n",
       "    <tr>\n",
       "      <th>3</th>\n",
       "      <td>20130214</td>\n",
       "      <td>US-Market</td>\n",
       "      <td>cheap life insurance</td>\n",
       "      <td>1.0</td>\n",
       "      <td>58.88</td>\n",
       "      <td>3.30%</td>\n",
       "      <td>931</td>\n",
       "      <td>1806.63</td>\n",
       "      <td>4.746000e+00</td>\n",
       "    </tr>\n",
       "    <tr>\n",
       "      <th>4</th>\n",
       "      <td>20130214</td>\n",
       "      <td>US-Market</td>\n",
       "      <td>vioxx law suit</td>\n",
       "      <td>0.0</td>\n",
       "      <td>0.00</td>\n",
       "      <td>0.00%</td>\n",
       "      <td>0</td>\n",
       "      <td>0.00</td>\n",
       "      <td>4.834382e-08</td>\n",
       "    </tr>\n",
       "  </tbody>\n",
       "</table>\n",
       "</div>"
      ],
      "text/plain": [
       "       Date     Market                    Keyword  Average.Position    CPC  \\\n",
       "0  20130214  US-Market  cheap insurance life term               0.0   0.00   \n",
       "1  20130214  US-Market     home loans refinancing               1.0   7.63   \n",
       "2  20130214  US-Market  consolidate college loans               0.0   0.00   \n",
       "3  20130214  US-Market       cheap life insurance               1.0  58.88   \n",
       "4  20130214  US-Market             vioxx law suit               0.0   0.00   \n",
       "\n",
       "     CTR  Impressions     Cost        clicks  \n",
       "0  0.00%            0     0.00  4.834382e-08  \n",
       "1  3.80%          445   130.41  4.834382e-08  \n",
       "2  0.00%            0     0.00  4.834382e-08  \n",
       "3  3.30%          931  1806.63  4.746000e+00  \n",
       "4  0.00%            0     0.00  4.834382e-08  "
      ]
     },
     "execution_count": 215,
     "metadata": {},
     "output_type": "execute_result"
    }
   ],
   "source": [
    "y_pred_1 = classifier.predict(x_test)\n",
    "y_pred_1[y_pred_1<0] = 0\n",
    "sub = pd.read_csv('Evaluate.csv')\n",
    "sub['clicks'] = y_pred_1.astype(float)\n",
    "sub.to_csv('Randomforest_4.csv',index=False) \n",
    "sub.head()"
   ]
  },
  {
   "cell_type": "markdown",
   "metadata": {},
   "source": [
    "### XGboost Model"
   ]
  },
  {
   "cell_type": "code",
   "execution_count": 150,
   "metadata": {},
   "outputs": [
    {
     "name": "stderr",
     "output_type": "stream",
     "text": [
      "C:\\ProgramData\\Anaconda3\\lib\\site-packages\\xgboost\\core.py:587: FutureWarning: Series.base is deprecated and will be removed in a future version\n",
      "  if getattr(data, 'base', None) is not None and \\\n",
      "C:\\ProgramData\\Anaconda3\\lib\\site-packages\\xgboost\\core.py:588: FutureWarning: Series.base is deprecated and will be removed in a future version\n",
      "  data.base is not None and isinstance(data, np.ndarray) \\\n"
     ]
    },
    {
     "name": "stdout",
     "output_type": "stream",
     "text": [
      "[18:03:27] WARNING: C:/Jenkins/workspace/xgboost-win64_release_0.90/src/objective/regression_obj.cu:152: reg:linear is now deprecated in favor of reg:squarederror.\n"
     ]
    },
    {
     "data": {
      "text/plain": [
       "XGBRegressor(base_score=0.5, booster='gbtree', colsample_bylevel=1,\n",
       "             colsample_bynode=1, colsample_bytree=0.4, gamma=0,\n",
       "             importance_type='gain', learning_rate=0.05, max_delta_step=0,\n",
       "             max_depth=3, min_child_weight=1.5, missing=None, n_estimators=30,\n",
       "             n_jobs=1, nthread=None, objective='reg:linear', random_state=0,\n",
       "             reg_alpha=0.75, reg_lambda=0.45, scale_pos_weight=1, seed=42,\n",
       "             silent=None, subsample=0.6, verbosity=1)"
      ]
     },
     "execution_count": 150,
     "metadata": {},
     "output_type": "execute_result"
    }
   ],
   "source": [
    "import xgboost\n",
    "\n",
    "best_xgb_model = xgboost.XGBRegressor(colsample_bytree=0.4,\n",
    "                 gamma=0,                 \n",
    "                 learning_rate=0.05,\n",
    "                 max_depth=3,\n",
    "                 min_child_weight=1.5,\n",
    "                 n_estimators=30,                                                                    \n",
    "                 reg_alpha=0.75,\n",
    "                 reg_lambda=0.45,\n",
    "                 subsample=0.6,\n",
    "                 seed=42)\n",
    "best_xgb_model.fit(x_train,Y_train)"
   ]
  },
  {
   "cell_type": "code",
   "execution_count": 151,
   "metadata": {},
   "outputs": [],
   "source": [
    "pred_1 = best_xgb_model.predict(x_valid)"
   ]
  },
  {
   "cell_type": "code",
   "execution_count": 152,
   "metadata": {},
   "outputs": [
    {
     "name": "stdout",
     "output_type": "stream",
     "text": [
      "coefficient of determination R^2 of the prediction.:  0.7978348112189357\n",
      "Mean squared error: 135758.68\n",
      "Test Variance score: 0.91\n",
      "mean_absolute_error: 103.53\n"
     ]
    }
   ],
   "source": [
    "from sklearn.metrics import mean_squared_error, r2_score, mean_absolute_error\n",
    "model_score = best_xgb_model.score(x_train,Y_train)\n",
    "print('coefficient of determination R^2 of the prediction.: ',model_score)\n",
    "y_predicted = best_xgb_model.predict(x_valid)\n",
    "\n",
    "# The mean squared error\n",
    "print(\"Mean squared error: %.2f\"% mean_squared_error(Y_valid, y_predicted))\n",
    "# Explained variance score: 1 is perfect prediction\n",
    "print('Test Variance score: %.2f' % r2_score(Y_valid, y_predicted))\n",
    "print('mean_absolute_error: %.2f' % mean_absolute_error(Y_valid, y_predicted))"
   ]
  },
  {
   "cell_type": "code",
   "execution_count": 153,
   "metadata": {},
   "outputs": [
    {
     "data": {
      "text/html": [
       "<div>\n",
       "<style scoped>\n",
       "    .dataframe tbody tr th:only-of-type {\n",
       "        vertical-align: middle;\n",
       "    }\n",
       "\n",
       "    .dataframe tbody tr th {\n",
       "        vertical-align: top;\n",
       "    }\n",
       "\n",
       "    .dataframe thead th {\n",
       "        text-align: right;\n",
       "    }\n",
       "</style>\n",
       "<table border=\"1\" class=\"dataframe\">\n",
       "  <thead>\n",
       "    <tr style=\"text-align: right;\">\n",
       "      <th></th>\n",
       "      <th>Date</th>\n",
       "      <th>Market</th>\n",
       "      <th>Keyword</th>\n",
       "      <th>Average.Position</th>\n",
       "      <th>CPC</th>\n",
       "      <th>CTR</th>\n",
       "      <th>Impressions</th>\n",
       "      <th>Cost</th>\n",
       "      <th>clicks</th>\n",
       "    </tr>\n",
       "  </thead>\n",
       "  <tbody>\n",
       "    <tr>\n",
       "      <th>0</th>\n",
       "      <td>20130214</td>\n",
       "      <td>US-Market</td>\n",
       "      <td>cheap insurance life term</td>\n",
       "      <td>0.0</td>\n",
       "      <td>0.00</td>\n",
       "      <td>0.00%</td>\n",
       "      <td>0</td>\n",
       "      <td>0.00</td>\n",
       "      <td>47.276573</td>\n",
       "    </tr>\n",
       "    <tr>\n",
       "      <th>1</th>\n",
       "      <td>20130214</td>\n",
       "      <td>US-Market</td>\n",
       "      <td>home loans refinancing</td>\n",
       "      <td>1.0</td>\n",
       "      <td>7.63</td>\n",
       "      <td>3.80%</td>\n",
       "      <td>445</td>\n",
       "      <td>130.41</td>\n",
       "      <td>47.276573</td>\n",
       "    </tr>\n",
       "    <tr>\n",
       "      <th>2</th>\n",
       "      <td>20130214</td>\n",
       "      <td>US-Market</td>\n",
       "      <td>consolidate college loans</td>\n",
       "      <td>0.0</td>\n",
       "      <td>0.00</td>\n",
       "      <td>0.00%</td>\n",
       "      <td>0</td>\n",
       "      <td>0.00</td>\n",
       "      <td>47.276573</td>\n",
       "    </tr>\n",
       "    <tr>\n",
       "      <th>3</th>\n",
       "      <td>20130214</td>\n",
       "      <td>US-Market</td>\n",
       "      <td>cheap life insurance</td>\n",
       "      <td>1.0</td>\n",
       "      <td>58.88</td>\n",
       "      <td>3.30%</td>\n",
       "      <td>931</td>\n",
       "      <td>1806.63</td>\n",
       "      <td>146.617508</td>\n",
       "    </tr>\n",
       "    <tr>\n",
       "      <th>4</th>\n",
       "      <td>20130214</td>\n",
       "      <td>US-Market</td>\n",
       "      <td>vioxx law suit</td>\n",
       "      <td>0.0</td>\n",
       "      <td>0.00</td>\n",
       "      <td>0.00%</td>\n",
       "      <td>0</td>\n",
       "      <td>0.00</td>\n",
       "      <td>47.276573</td>\n",
       "    </tr>\n",
       "  </tbody>\n",
       "</table>\n",
       "</div>"
      ],
      "text/plain": [
       "       Date     Market                    Keyword  Average.Position    CPC  \\\n",
       "0  20130214  US-Market  cheap insurance life term               0.0   0.00   \n",
       "1  20130214  US-Market     home loans refinancing               1.0   7.63   \n",
       "2  20130214  US-Market  consolidate college loans               0.0   0.00   \n",
       "3  20130214  US-Market       cheap life insurance               1.0  58.88   \n",
       "4  20130214  US-Market             vioxx law suit               0.0   0.00   \n",
       "\n",
       "     CTR  Impressions     Cost      clicks  \n",
       "0  0.00%            0     0.00   47.276573  \n",
       "1  3.80%          445   130.41   47.276573  \n",
       "2  0.00%            0     0.00   47.276573  \n",
       "3  3.30%          931  1806.63  146.617508  \n",
       "4  0.00%            0     0.00   47.276573  "
      ]
     },
     "execution_count": 153,
     "metadata": {},
     "output_type": "execute_result"
    }
   ],
   "source": [
    "y_pred_1 = best_xgb_model.predict(x_test)\n",
    "y_pred_1[y_pred_1<0] = 0\n",
    "sub = pd.read_csv('Evaluate.csv')\n",
    "sub['clicks'] = y_pred_1.astype(float)\n",
    "sub.to_csv('xgboost_3.csv',index=False) \n",
    "sub.head()"
   ]
  },
  {
   "cell_type": "markdown",
   "metadata": {},
   "source": [
    "### 1-D CNN model"
   ]
  },
  {
   "cell_type": "code",
   "execution_count": 53,
   "metadata": {},
   "outputs": [
    {
     "name": "stderr",
     "output_type": "stream",
     "text": [
      "Using TensorFlow backend.\n"
     ]
    }
   ],
   "source": [
    "import numpy as np\n",
    "import pandas as pd\n",
    "import os\n",
    "from sklearn.preprocessing import Normalizer\n",
    "\n",
    "from keras.utils.np_utils import to_categorical\n",
    "from keras.models import Sequential\n",
    "from keras.layers import Dense, Dropout, Flatten, Convolution1D, MaxPooling1D,LSTM,GRU\n",
    "from keras import callbacks\n",
    "from keras.callbacks import CSVLogger\n",
    "from keras.callbacks import ModelCheckpoint, EarlyStopping, ReduceLROnPlateau\n",
    "import keras\n",
    "\n",
    "import h5py\n",
    "from keras.models import Model\n",
    "import matplotlib.pyplot as plt"
   ]
  },
  {
   "cell_type": "code",
   "execution_count": 33,
   "metadata": {},
   "outputs": [],
   "source": [
    "X_train1 = x_train.reshape(-1,302,1)\n",
    "X_valid1 = x_valid.reshape(-1,302,1)"
   ]
  },
  {
   "cell_type": "code",
   "execution_count": 35,
   "metadata": {},
   "outputs": [
    {
     "name": "stdout",
     "output_type": "stream",
     "text": [
      "(285935, 302, 1)\n",
      "(285935,)\n",
      "(66605, 302, 1)\n",
      "(66605,)\n"
     ]
    }
   ],
   "source": [
    "print(X_train1.shape)\n",
    "print(Y_train.shape)\n",
    "print(X_valid1.shape)\n",
    "print(Y_valid.shape)"
   ]
  },
  {
   "cell_type": "code",
   "execution_count": 36,
   "metadata": {},
   "outputs": [
    {
     "name": "stdout",
     "output_type": "stream",
     "text": [
      "WARNING:tensorflow:From C:\\ProgramData\\Anaconda3\\lib\\site-packages\\tensorflow\\python\\framework\\op_def_library.py:263: colocate_with (from tensorflow.python.framework.ops) is deprecated and will be removed in a future version.\n",
      "Instructions for updating:\n",
      "Colocations handled automatically by placer.\n",
      "_________________________________________________________________\n",
      "Layer (type)                 Output Shape              Param #   \n",
      "=================================================================\n",
      "conv1d_1 (Conv1D)            (None, 302, 64)           256       \n",
      "_________________________________________________________________\n",
      "max_pooling1d_1 (MaxPooling1 (None, 151, 64)           0         \n",
      "_________________________________________________________________\n",
      "flatten_1 (Flatten)          (None, 9664)              0         \n",
      "_________________________________________________________________\n",
      "dense_1 (Dense)              (None, 128)               1237120   \n",
      "_________________________________________________________________\n",
      "dense_2 (Dense)              (None, 64)                8256      \n",
      "_________________________________________________________________\n",
      "dense_3 (Dense)              (None, 128)               8320      \n",
      "_________________________________________________________________\n",
      "dense_4 (Dense)              (None, 32)                4128      \n",
      "_________________________________________________________________\n",
      "dense_5 (Dense)              (None, 1)                 33        \n",
      "=================================================================\n",
      "Total params: 1,258,113\n",
      "Trainable params: 1,258,113\n",
      "Non-trainable params: 0\n",
      "_________________________________________________________________\n"
     ]
    },
    {
     "name": "stderr",
     "output_type": "stream",
     "text": [
      "C:\\ProgramData\\Anaconda3\\lib\\site-packages\\ipykernel_launcher.py:2: UserWarning: Update your `Conv1D` call to the Keras 2 API: `Conv1D(64, 3, activation=\"relu\", input_shape=(302, 1), padding=\"same\")`\n",
      "  \n",
      "C:\\ProgramData\\Anaconda3\\lib\\site-packages\\ipykernel_launcher.py:3: UserWarning: Update your `MaxPooling1D` call to the Keras 2 API: `MaxPooling1D(pool_size=2)`\n",
      "  This is separate from the ipykernel package so we can avoid doing imports until\n"
     ]
    }
   ],
   "source": [
    "model=Sequential()\n",
    "model.add(Convolution1D(64,3,border_mode='same',activation='relu',input_shape=(302, 1)))\n",
    "model.add(MaxPooling1D(pool_length=(2)))\n",
    "model.add(Flatten())\n",
    "model.add(Dense(128,kernel_initializer='normal',activation='relu'))\n",
    "model.add(Dense(64,kernel_initializer='normal',activation='relu'))\n",
    "model.add(Dense(128,kernel_initializer='normal',activation='relu'))\n",
    "model.add(Dense(32,kernel_initializer='normal',activation='relu'))\n",
    "# model.add(Dropout(0.2))  # to reduce overfitting, some neuron connections will be cut out\n",
    "model.add(Dense(1,kernel_initializer='normal',activation='linear'))\n",
    "model.summary()\n",
    "model.compile(loss='mean_absolute_error', optimizer='adam', metrics=['mean_absolute_error'])"
   ]
  },
  {
   "cell_type": "code",
   "execution_count": 65,
   "metadata": {},
   "outputs": [
    {
     "name": "stdout",
     "output_type": "stream",
     "text": [
      "Epoch 1/10\n",
      "285935/285935 [==============================] - 14s 48us/step - loss: 75.7979 - mean_absolute_error: 75.7979\n",
      "Epoch 2/10\n",
      "285935/285935 [==============================] - 14s 48us/step - loss: 75.8981 - mean_absolute_error: 75.8981\n",
      "Epoch 3/10\n",
      "285935/285935 [==============================] - 14s 48us/step - loss: 75.5127 - mean_absolute_error: 75.5127\n",
      "Epoch 4/10\n",
      "285935/285935 [==============================] - 14s 49us/step - loss: 75.0671 - mean_absolute_error: 75.0671\n",
      "Epoch 5/10\n",
      "285935/285935 [==============================] - 14s 47us/step - loss: 75.0344 - mean_absolute_error: 75.0344\n",
      "Epoch 6/10\n",
      "285935/285935 [==============================] - 14s 47us/step - loss: 75.0878 - mean_absolute_error: 75.0878\n",
      "Epoch 7/10\n",
      "285935/285935 [==============================] - 14s 48us/step - loss: 75.4118 - mean_absolute_error: 75.4118\n",
      "Epoch 8/10\n",
      "285935/285935 [==============================] - 14s 48us/step - loss: 74.4533 - mean_absolute_error: 74.4533\n",
      "Epoch 9/10\n",
      "285935/285935 [==============================] - 14s 47us/step - loss: 75.5382 - mean_absolute_error: 75.5382\n",
      "Epoch 10/10\n",
      "285935/285935 [==============================] - 14s 47us/step - loss: 74.4212 - mean_absolute_error: 74.4212\n"
     ]
    },
    {
     "data": {
      "text/plain": [
       "<keras.callbacks.History at 0x2708fcc6940>"
      ]
     },
     "execution_count": 65,
     "metadata": {},
     "output_type": "execute_result"
    }
   ],
   "source": [
    "model.fit(X_train1,Y_train, epochs=10, batch_size=100)"
   ]
  },
  {
   "cell_type": "code",
   "execution_count": 66,
   "metadata": {},
   "outputs": [],
   "source": [
    "model.save_weights('results/model10.h5')"
   ]
  },
  {
   "cell_type": "code",
   "execution_count": null,
   "metadata": {},
   "outputs": [],
   "source": [
    "model.load_weights('results/model10.h5')"
   ]
  },
  {
   "cell_type": "code",
   "execution_count": 67,
   "metadata": {},
   "outputs": [],
   "source": [
    "y_predicted = model.predict(X_valid1)"
   ]
  },
  {
   "cell_type": "code",
   "execution_count": 69,
   "metadata": {},
   "outputs": [
    {
     "name": "stdout",
     "output_type": "stream",
     "text": [
      "Mean squared error: 183220.71\n",
      "Test Variance score: 0.88\n",
      "mean_absolute_error: 61.83\n"
     ]
    }
   ],
   "source": [
    "from sklearn.metrics import mean_squared_error, r2_score, mean_absolute_error\n",
    "\n",
    "print(\"Mean squared error: %.2f\"% mean_squared_error(Y_valid, y_predicted))\n",
    "# Explained variance score: 1 is perfect prediction\n",
    "print('R2 score: %.2f' % r2_score(Y_valid, y_predicted))\n",
    "print('mean_absolute_error: %.2f' % mean_absolute_error(Y_valid, y_predicted))"
   ]
  },
  {
   "cell_type": "markdown",
   "metadata": {},
   "source": [
    "### GRU Model"
   ]
  },
  {
   "cell_type": "code",
   "execution_count": 154,
   "metadata": {},
   "outputs": [
    {
     "data": {
      "text/plain": [
       "((285935, 1, 304), (66605, 1, 304))"
      ]
     },
     "execution_count": 154,
     "metadata": {},
     "output_type": "execute_result"
    }
   ],
   "source": [
    "x_train_c = np.reshape(x_train.copy(),((x_train.shape[0],1,x_train.shape[1])))\n",
    "x_val_c = np.reshape(x_valid.copy(),((x_valid.shape[0],1,x_valid.shape[1])))\n",
    "x_test_c = np.reshape(x_test.copy(),((x_test.shape[0],1,x_test.shape[1])))\n",
    "x_train_c.shape,x_val_c.shape"
   ]
  },
  {
   "cell_type": "code",
   "execution_count": 155,
   "metadata": {},
   "outputs": [
    {
     "name": "stdout",
     "output_type": "stream",
     "text": [
      "_________________________________________________________________\n",
      "Layer (type)                 Output Shape              Param #   \n",
      "=================================================================\n",
      "gru_5 (GRU)                  (None, 32)                32352     \n",
      "_________________________________________________________________\n",
      "dense_9 (Dense)              (None, 10)                330       \n",
      "_________________________________________________________________\n",
      "dense_10 (Dense)             (None, 1)                 11        \n",
      "=================================================================\n",
      "Total params: 32,693\n",
      "Trainable params: 32,693\n",
      "Non-trainable params: 0\n",
      "_________________________________________________________________\n"
     ]
    }
   ],
   "source": [
    "model = Sequential()\n",
    "model.add(GRU(32, input_shape=(None, x_train_c.shape[2])))\n",
    "model.add(Dense(10, activation='relu'))\n",
    "model.add(Dense(1))\n",
    "model.summary()\n",
    "model.compile(optimizer=keras.optimizers.Adam(lr=0.005), loss=\"mae\",metrics=['mean_absolute_error'])"
   ]
  },
  {
   "cell_type": "code",
   "execution_count": 166,
   "metadata": {},
   "outputs": [
    {
     "name": "stdout",
     "output_type": "stream",
     "text": [
      "Train on 285935 samples, validate on 66605 samples\n",
      "Epoch 1/10\n",
      "285935/285935 [==============================] - 32s 113us/step - loss: 107.4018 - mean_absolute_error: 107.4018 - val_loss: 99.2431 - val_mean_absolute_error: 99.2431\n",
      "Epoch 2/10\n",
      "285935/285935 [==============================] - 32s 113us/step - loss: 107.3911 - mean_absolute_error: 107.3911 - val_loss: 100.2571 - val_mean_absolute_error: 100.2571\n",
      "Epoch 3/10\n",
      "285935/285935 [==============================] - 33s 114us/step - loss: 108.2500 - mean_absolute_error: 108.2500 - val_loss: 98.4036 - val_mean_absolute_error: 98.4036\n",
      "Epoch 4/10\n",
      "285935/285935 [==============================] - 33s 114us/step - loss: 107.4154 - mean_absolute_error: 107.4154 - val_loss: 107.6675 - val_mean_absolute_error: 107.6675\n",
      "Epoch 5/10\n",
      "285935/285935 [==============================] - 33s 114us/step - loss: 105.8633 - mean_absolute_error: 105.8633 - val_loss: 88.6431 - val_mean_absolute_error: 88.6431\n",
      "Epoch 6/10\n",
      "285935/285935 [==============================] - 33s 114us/step - loss: 106.0067 - mean_absolute_error: 106.0067 - val_loss: 103.2881 - val_mean_absolute_error: 103.2881\n",
      "Epoch 7/10\n",
      "285935/285935 [==============================] - 33s 114us/step - loss: 105.5162 - mean_absolute_error: 105.5162 - val_loss: 89.3092 - val_mean_absolute_error: 89.3092\n",
      "Epoch 8/10\n",
      "285935/285935 [==============================] - 33s 114us/step - loss: 104.9899 - mean_absolute_error: 104.9899 - val_loss: 84.2094 - val_mean_absolute_error: 84.2094\n",
      "Epoch 9/10\n",
      "285935/285935 [==============================] - 33s 115us/step - loss: 105.3029 - mean_absolute_error: 105.3029 - val_loss: 88.0052 - val_mean_absolute_error: 88.0052\n",
      "Epoch 10/10\n",
      "285935/285935 [==============================] - 34s 117us/step - loss: 103.3769 - mean_absolute_error: 103.3769 - val_loss: 85.6713 - val_mean_absolute_error: 85.6713\n"
     ]
    },
    {
     "data": {
      "text/plain": [
       "<keras.callbacks.History at 0x20591efcb00>"
      ]
     },
     "execution_count": 166,
     "metadata": {},
     "output_type": "execute_result"
    }
   ],
   "source": [
    "model.fit(x_train_c,Y_train,epochs=10,batch_size=32,verbose=1,validation_data=(x_val_c, Y_valid))"
   ]
  },
  {
   "cell_type": "code",
   "execution_count": 162,
   "metadata": {},
   "outputs": [],
   "source": [
    "model.save_weights('GRU_model_3_20.h5')"
   ]
  },
  {
   "cell_type": "code",
   "execution_count": 120,
   "metadata": {},
   "outputs": [],
   "source": [
    "model.load_weights('GRU_model_1_20.h5')"
   ]
  },
  {
   "cell_type": "code",
   "execution_count": 163,
   "metadata": {},
   "outputs": [],
   "source": [
    "y_predicted = model.predict(x_val_c)"
   ]
  },
  {
   "cell_type": "code",
   "execution_count": 164,
   "metadata": {},
   "outputs": [
    {
     "name": "stdout",
     "output_type": "stream",
     "text": [
      "Mean squared error: 218947.84\n",
      "R2 score: 0.85\n",
      "mean_absolute_error: 85.11\n"
     ]
    }
   ],
   "source": [
    "print(\"Mean squared error: %.2f\"% mean_squared_error(Y_valid, y_predicted))\n",
    "# Explained variance score: 1 is perfect prediction\n",
    "print('R2 score: %.2f' % r2_score(Y_valid, y_predicted))\n",
    "print('mean_absolute_error: %.2f' % mean_absolute_error(Y_valid, y_predicted))"
   ]
  },
  {
   "cell_type": "code",
   "execution_count": 165,
   "metadata": {},
   "outputs": [
    {
     "data": {
      "text/html": [
       "<div>\n",
       "<style scoped>\n",
       "    .dataframe tbody tr th:only-of-type {\n",
       "        vertical-align: middle;\n",
       "    }\n",
       "\n",
       "    .dataframe tbody tr th {\n",
       "        vertical-align: top;\n",
       "    }\n",
       "\n",
       "    .dataframe thead th {\n",
       "        text-align: right;\n",
       "    }\n",
       "</style>\n",
       "<table border=\"1\" class=\"dataframe\">\n",
       "  <thead>\n",
       "    <tr style=\"text-align: right;\">\n",
       "      <th></th>\n",
       "      <th>Date</th>\n",
       "      <th>Market</th>\n",
       "      <th>Keyword</th>\n",
       "      <th>Average.Position</th>\n",
       "      <th>CPC</th>\n",
       "      <th>CTR</th>\n",
       "      <th>Impressions</th>\n",
       "      <th>Cost</th>\n",
       "      <th>clicks</th>\n",
       "    </tr>\n",
       "  </thead>\n",
       "  <tbody>\n",
       "    <tr>\n",
       "      <th>0</th>\n",
       "      <td>20130214</td>\n",
       "      <td>US-Market</td>\n",
       "      <td>cheap insurance life term</td>\n",
       "      <td>0.0</td>\n",
       "      <td>0.00</td>\n",
       "      <td>0.00%</td>\n",
       "      <td>0</td>\n",
       "      <td>0.00</td>\n",
       "      <td>0.000000</td>\n",
       "    </tr>\n",
       "    <tr>\n",
       "      <th>1</th>\n",
       "      <td>20130214</td>\n",
       "      <td>US-Market</td>\n",
       "      <td>home loans refinancing</td>\n",
       "      <td>1.0</td>\n",
       "      <td>7.63</td>\n",
       "      <td>3.80%</td>\n",
       "      <td>445</td>\n",
       "      <td>130.41</td>\n",
       "      <td>94.773216</td>\n",
       "    </tr>\n",
       "    <tr>\n",
       "      <th>2</th>\n",
       "      <td>20130214</td>\n",
       "      <td>US-Market</td>\n",
       "      <td>consolidate college loans</td>\n",
       "      <td>0.0</td>\n",
       "      <td>0.00</td>\n",
       "      <td>0.00%</td>\n",
       "      <td>0</td>\n",
       "      <td>0.00</td>\n",
       "      <td>2.120856</td>\n",
       "    </tr>\n",
       "    <tr>\n",
       "      <th>3</th>\n",
       "      <td>20130214</td>\n",
       "      <td>US-Market</td>\n",
       "      <td>cheap life insurance</td>\n",
       "      <td>1.0</td>\n",
       "      <td>58.88</td>\n",
       "      <td>3.30%</td>\n",
       "      <td>931</td>\n",
       "      <td>1806.63</td>\n",
       "      <td>233.569427</td>\n",
       "    </tr>\n",
       "    <tr>\n",
       "      <th>4</th>\n",
       "      <td>20130214</td>\n",
       "      <td>US-Market</td>\n",
       "      <td>vioxx law suit</td>\n",
       "      <td>0.0</td>\n",
       "      <td>0.00</td>\n",
       "      <td>0.00%</td>\n",
       "      <td>0</td>\n",
       "      <td>0.00</td>\n",
       "      <td>0.032273</td>\n",
       "    </tr>\n",
       "  </tbody>\n",
       "</table>\n",
       "</div>"
      ],
      "text/plain": [
       "       Date     Market                    Keyword  Average.Position    CPC  \\\n",
       "0  20130214  US-Market  cheap insurance life term               0.0   0.00   \n",
       "1  20130214  US-Market     home loans refinancing               1.0   7.63   \n",
       "2  20130214  US-Market  consolidate college loans               0.0   0.00   \n",
       "3  20130214  US-Market       cheap life insurance               1.0  58.88   \n",
       "4  20130214  US-Market             vioxx law suit               0.0   0.00   \n",
       "\n",
       "     CTR  Impressions     Cost      clicks  \n",
       "0  0.00%            0     0.00    0.000000  \n",
       "1  3.80%          445   130.41   94.773216  \n",
       "2  0.00%            0     0.00    2.120856  \n",
       "3  3.30%          931  1806.63  233.569427  \n",
       "4  0.00%            0     0.00    0.032273  "
      ]
     },
     "execution_count": 165,
     "metadata": {},
     "output_type": "execute_result"
    }
   ],
   "source": [
    "y_pred_1 = model.predict(x_test_c)\n",
    "y_pred_1[y_pred_1<0] = 0\n",
    "sub = pd.read_csv('Evaluate.csv')\n",
    "sub['clicks'] = y_pred_1.astype(float)\n",
    "sub.to_csv('GRU_3_20epochs.csv',index=False) \n",
    "sub.head()"
   ]
  },
  {
   "cell_type": "code",
   "execution_count": null,
   "metadata": {},
   "outputs": [],
   "source": []
  }
 ],
 "metadata": {
  "kernelspec": {
   "display_name": "Python 3",
   "language": "python",
   "name": "python3"
  },
  "language_info": {
   "codemirror_mode": {
    "name": "ipython",
    "version": 3
   },
   "file_extension": ".py",
   "mimetype": "text/x-python",
   "name": "python",
   "nbconvert_exporter": "python",
   "pygments_lexer": "ipython3",
   "version": "3.7.3"
  }
 },
 "nbformat": 4,
 "nbformat_minor": 2
}
